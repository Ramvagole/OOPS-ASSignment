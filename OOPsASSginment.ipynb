{
 "cells": [
  {
   "cell_type": "code",
   "execution_count": null,
   "id": "9ca3f57f-b60d-499b-861c-e6a0890ce9d8",
   "metadata": {},
   "outputs": [],
   "source": [
    "#Q1):-\n",
    "r :- open a file in read mode.\n",
    "w :- opens or create a text file in write mode. \n",
    "a :- opens a file in append mode. \n",
    "r+ :- opens a file in both read and write mode."
   ]
  },
  {
   "cell_type": "code",
   "execution_count": null,
   "id": "42402abe-3de6-4248-95f2-e9177964b70f",
   "metadata": {},
   "outputs": [],
   "source": [
    "#Q2):-\n",
    "The close() method closes an open file.\n",
    "You should always close your files, in some cases, due to buffering, changes made to a file may not show until you close the file."
   ]
  },
  {
   "cell_type": "code",
   "execution_count": 1,
   "id": "a7aea514-2b08-4b37-bf7c-dc96fd71848c",
   "metadata": {},
   "outputs": [
    {
     "name": "stdout",
     "output_type": "stream",
     "text": [
      "I want to become a Data Scientist\n"
     ]
    }
   ],
   "source": [
    "#Q3):-\n",
    "f=open(\"HELLO.txt\",\"w\")\n",
    "f.write(\"I want to become a Data Scientist\")\n",
    "f.close()\n",
    "f=open(\"HELLO.txt\",\"r\")\n",
    "print(f.read())"
   ]
  },
  {
   "cell_type": "code",
   "execution_count": null,
   "id": "2090a111-c6e6-4d85-9d18-faaf429b31a3",
   "metadata": {},
   "outputs": [],
   "source": [
    "#Q4):-\n",
    "The read() method returns the specified number of bytes from the file.\n",
    "Python readline() method will return a line from the file when called. \n",
    "readlines() method will return all the lines in a file in the format of a list where each element is a line in the file."
   ]
  },
  {
   "cell_type": "code",
   "execution_count": null,
   "id": "cfec8f2f-beb2-426a-a9ea-612ef5ab2284",
   "metadata": {},
   "outputs": [],
   "source": [
    "#Q5):-\n",
    "The with statement works with the open() function to open a file. \n",
    "Unlike open() where you have to close the file with the close() method, the with statement closes the file for you without you telling it to."
   ]
  },
  {
   "cell_type": "code",
   "execution_count": null,
   "id": "fca0e538-b162-45a9-a053-65ccf7771a9e",
   "metadata": {},
   "outputs": [],
   "source": [
    "#Q6):-\n",
    "The write() function will write the content in the file without adding any extra characters.\n",
    "Example:-\n",
    "       file_name.write(content)\n",
    "    \n",
    "The writeline() function writes the content of a list to a file.\n",
    "Example:-\n",
    "       file_name.writelines(list_of_lines)"
   ]
  }
 ],
 "metadata": {
  "kernelspec": {
   "display_name": "Python 3 (ipykernel)",
   "language": "python",
   "name": "python3"
  },
  "language_info": {
   "codemirror_mode": {
    "name": "ipython",
    "version": 3
   },
   "file_extension": ".py",
   "mimetype": "text/x-python",
   "name": "python",
   "nbconvert_exporter": "python",
   "pygments_lexer": "ipython3",
   "version": "3.10.8"
  }
 },
 "nbformat": 4,
 "nbformat_minor": 5
}
